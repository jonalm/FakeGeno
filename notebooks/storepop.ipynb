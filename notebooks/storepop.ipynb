{
 "cells": [
  {
   "cell_type": "code",
   "execution_count": 1,
   "metadata": {
    "collapsed": false
   },
   "outputs": [],
   "source": [
    "using HDF5\n",
    "using GWASTools"
   ]
  },
  {
   "cell_type": "code",
   "execution_count": null,
   "metadata": {
    "collapsed": false
   },
   "outputs": [],
   "source": [
    "Nsnp = 1600\n",
    "Nind = 2000\n",
    "Nhs = 100\n",
    "hzygosity = 0.4\n",
    "maf = 0.05\n",
    "\n",
    "pop = make_pop(Nsnp,Nind,Nhs,hzygosity=0.4,hzygosity=hzygosity, maf_cutoff=maf)\n",
    "dosage = calc_dosage(pop)"
   ]
  },
  {
   "cell_type": "code",
   "execution_count": null,
   "metadata": {
    "collapsed": false
   },
   "outputs": [],
   "source": [
    "showmatrix(pop);"
   ]
  },
  {
   "cell_type": "code",
   "execution_count": null,
   "metadata": {
    "collapsed": false
   },
   "outputs": [],
   "source": [
    "COR = cor(pop,2)\n",
    "showmatrix(COR,cmap=\"bwr\",minmax=[-1.,1.]);"
   ]
  },
  {
   "cell_type": "code",
   "execution_count": null,
   "metadata": {
    "collapsed": false
   },
   "outputs": [],
   "source": [
    "h5open(\"..samplepop.hdf5\", \"w\") do x\n",
    "    write(x, \"dosage\", convert(Matrix{Int8},dosage))\n",
    "end"
   ]
  },
  {
   "cell_type": "code",
   "execution_count": null,
   "metadata": {
    "collapsed": false
   },
   "outputs": [],
   "source": [
    ";h5dump -n samplepop.hdf5"
   ]
  }
 ],
 "metadata": {
  "kernelspec": {
   "display_name": "Julia 0.4.2-pre",
   "language": "julia",
   "name": "julia-0.4"
  },
  "language_info": {
   "file_extension": ".jl",
   "mimetype": "application/julia",
   "name": "julia",
   "version": "0.4.7"
  }
 },
 "nbformat": 4,
 "nbformat_minor": 0
}
