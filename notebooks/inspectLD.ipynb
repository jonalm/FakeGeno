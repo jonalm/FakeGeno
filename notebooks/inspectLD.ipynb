{
 "cells": [
  {
   "cell_type": "code",
   "execution_count": 8,
   "metadata": {
    "collapsed": true
   },
   "outputs": [],
   "source": [
    "using GWASTools\n",
    "using HDF5"
   ]
  },
  {
   "cell_type": "code",
   "execution_count": 9,
   "metadata": {
    "collapsed": false
   },
   "outputs": [
    {
     "data": {
      "text/plain": [
       "\"/LDr2_p1sparse/jc\""
      ]
     },
     "execution_count": 9,
     "metadata": {},
     "output_type": "execute_result"
    }
   ],
   "source": [
    "LD   = \"../GWASdata/SD_Annot_9M/LD_r2_gt_p1_chrs_1_22_from_1kGPhase3_hg19_compatibleWith_info9m_hg18.mat\"\n",
    "IR_G   = \"/LDr2_p1sparse/ir\"\n",
    "JC_G   = \"/LDr2_p1sparse/jc\""
   ]
  },
  {
   "cell_type": "code",
   "execution_count": 7,
   "metadata": {
    "collapsed": false
   },
   "outputs": [
    {
     "name": "stdout",
     "output_type": "stream",
     "text": [
      "HDF5 \"../GWASdata/SD_Annot_9M/LD_r2_gt_p1_chrs_1_22_from_1kGPhase3_hg19_compatibleWith_info9m_hg18.mat\" {\n",
      "GROUP \"/\" {\n",
      "   GROUP \"LDr2_p1sparse\" {\n",
      "      ATTRIBUTE \"MATLAB_class\" {\n",
      "         DATATYPE  H5T_STRING {\n",
      "            STRSIZE 7;\n",
      "            STRPAD H5T_STR_NULLTERM;\n",
      "            CSET H5T_CSET_ASCII;\n",
      "            CTYPE H5T_C_S1;\n",
      "         }\n",
      "         DATASPACE  SCALAR\n",
      "      }\n",
      "      ATTRIBUTE \"MATLAB_int_decode\" {\n",
      "         DATATYPE  H5T_STD_I32LE\n",
      "         DATASPACE  SCALAR\n",
      "      }\n",
      "      ATTRIBUTE \"MATLAB_sparse\" {\n",
      "         DATATYPE  H5T_STD_U64LE\n",
      "         DATASPACE  SCALAR\n",
      "      }\n",
      "      DATASET \"data\" {\n",
      "         DATATYPE  H5T_STD_U8LE\n",
      "         DATASPACE  SIMPLE { ( 2037123184 ) / ( 2037123184 ) }\n",
      "      }\n",
      "      DATASET \"ir\" {\n",
      "         DATATYPE  H5T_STD_U64LE\n",
      "         DATASPACE  SIMPLE { ( 2037123184 ) / ( 2037123184 ) }\n",
      "      }\n",
      "      DATASET \"jc\" {\n",
      "         DATATYPE  H5T_STD_U64LE\n",
      "         DATASPACE  SIMPLE { ( 9279486 ) / ( 9279486 ) }\n",
      "      }\n",
      "   }\n",
      "}\n",
      "}\n"
     ]
    }
   ],
   "source": [
    ";h5dump -H ../GWASdata/SD_Annot_9M/LD_r2_gt_p1_chrs_1_22_from_1kGPhase3_hg19_compatibleWith_info9m_hg18.mat"
   ]
  },
  {
   "cell_type": "code",
   "execution_count": 41,
   "metadata": {
    "collapsed": false
   },
   "outputs": [],
   "source": [
    "a = h5open(LD,\"r\") do f\n",
    "    MAX = 1000\n",
    "    a = zeros(Int,MAX)\n",
    "    for (i, c) in enumerate(1:10000)\n",
    "        val = length(readrow(f,IR_G, JC_G, c))\n",
    "        if val < 10\n",
    "            continue\n",
    "        elseif val > MAX\n",
    "            println(\"index $i, #(LD>0.1) = $val\")\n",
    "        else\n",
    "            a[val] += 1 \n",
    "        end\n",
    "    end\n",
    "    a\n",
    "end;"
   ]
  },
  {
   "cell_type": "code",
   "execution_count": 46,
   "metadata": {
    "collapsed": false
   },
   "outputs": [
    {
     "data": {
      "text/plain": [
       "1x21 Array{Int64,2}:\n",
       " 106  97  104  79  82  90  57  65  40  …  57  54  47  61  38  49  36  58  44"
      ]
     },
     "execution_count": 46,
     "metadata": {},
     "output_type": "execute_result"
    }
   ],
   "source": [
    "a[10:30]'"
   ]
  },
  {
   "cell_type": "code",
   "execution_count": null,
   "metadata": {
    "collapsed": true
   },
   "outputs": [],
   "source": []
  }
 ],
 "metadata": {
  "kernelspec": {
   "display_name": "Julia 0.4.2-pre",
   "language": "julia",
   "name": "julia-0.4"
  },
  "language_info": {
   "file_extension": ".jl",
   "mimetype": "application/julia",
   "name": "julia",
   "version": "0.4.7"
  }
 },
 "nbformat": 4,
 "nbformat_minor": 0
}
