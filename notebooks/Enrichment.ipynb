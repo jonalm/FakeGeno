{
 "cells": [
  {
   "cell_type": "code",
   "execution_count": 14,
   "metadata": {
    "collapsed": true
   },
   "outputs": [],
   "source": [
    "using Distributions\n",
    "using GWASTools\n",
    "using HDF5"
   ]
  },
  {
   "cell_type": "code",
   "execution_count": 18,
   "metadata": {
    "collapsed": false
   },
   "outputs": [
    {
     "name": "stdout",
     "output_type": "stream",
     "text": [
      "Enrichment.ipynb\n",
      "MultivariateZscoreCovariance.html\n",
      "MultivariateZscoreCovariance.ipynb\n",
      "inspectLD.ipynb\n",
      "notes\n",
      "profile\n",
      "samplepop.hdf5\n",
      "scratch\n",
      "scratch.ipynb\n",
      "src\n",
      "storepop.ipynb\n",
      "test\n"
     ]
    }
   ],
   "source": [
    ";ls"
   ]
  },
  {
   "cell_type": "code",
   "execution_count": 19,
   "metadata": {
    "collapsed": false
   },
   "outputs": [
    {
     "name": "stdout",
     "output_type": "stream",
     "text": [
      "HDF5 \"samplepop.hdf5\" {\n",
      "GROUP \"/\" {\n",
      "   DATASET \"COR\" {\n",
      "      DATATYPE  H5T_IEEE_F64LE\n",
      "      DATASPACE  SIMPLE { ( 1600, 1600 ) / ( 1600, 1600 ) }\n",
      "   }\n",
      "   DATASET \"Nhs\" {\n",
      "      DATATYPE  H5T_STD_I64LE\n",
      "      DATASPACE  SCALAR\n",
      "   }\n",
      "   DATASET \"Nind\" {\n",
      "      DATATYPE  H5T_STD_I64LE\n",
      "      DATASPACE  SCALAR\n",
      "   }\n",
      "   DATASET \"Nsnp\" {\n",
      "      DATATYPE  H5T_STD_I64LE\n",
      "      DATASPACE  SCALAR\n",
      "   }\n",
      "   DATASET \"dosage\" {\n",
      "      DATATYPE  H5T_STD_I8LE\n",
      "      DATASPACE  SIMPLE { ( 2000, 1600 ) / ( 2000, 1600 ) }\n",
      "   }\n",
      "   DATASET \"hzygosity\" {\n",
      "      DATATYPE  H5T_IEEE_F64LE\n",
      "      DATASPACE  SCALAR\n",
      "   }\n",
      "   DATASET \"pop\" {\n",
      "      DATATYPE  H5T_STD_I8LE\n",
      "      DATASPACE  SIMPLE { ( 4000, 1600 ) / ( 4000, 1600 ) }\n",
      "   }\n",
      "}\n",
      "}\n"
     ]
    }
   ],
   "source": [
    ";h5dump -H samplepop.hdf5"
   ]
  },
  {
   "cell_type": "code",
   "execution_count": 20,
   "metadata": {
    "collapsed": false
   },
   "outputs": [
    {
     "data": {
      "text/plain": [
       "1600x2000 Array{Int8,2}:\n",
       " 2  2  2  1  2  1  1  1  1  2  2  2  1  …  2  2  2  2  1  2  2  2  2  1  2  1\n",
       " 1  2  2  2  1  2  1  2  1  2  1  1  2     2  2  2  2  2  1  2  2  2  1  1  2\n",
       " 1  1  0  1  1  0  0  1  1  1  1  1  0     2  2  1  1  0  1  2  1  1  0  1  0\n",
       " 1  2  0  2  1  1  1  2  1  2  1  1  2     1  2  1  2  2  1  2  2  2  1  1  1\n",
       " 2  2  2  1  2  1  1  1  2  2  2  2  1     2  2  2  2  1  2  2  2  2  1  2  1\n",
       " 2  2  2  1  2  1  1  1  2  2  2  2  1  …  2  2  2  2  1  2  2  2  2  1  2  1\n",
       " 1  1  2  1  1  2  2  1  1  1  1  1  1     1  0  1  0  1  1  0  1  0  2  2  2\n",
       " 2  1  2  1  2  1  0  1  2  1  2  2  1     2  2  2  2  1  2  2  1  2  1  1  1\n",
       " 1  1  2  1  1  2  2  1  2  1  1  1  1     1  0  1  0  1  1  0  1  0  2  2  2\n",
       " 0  0  0  0  0  0  0  0  0  0  0  0  0     1  0  0  0  0  0  0  0  0  0  0  0\n",
       " 2  2  0  2  2  2  2  2  2  2  2  2  2  …  1  2  2  2  2  2  2  2  2  2  2  1\n",
       " 1  0  0  1  1  2  2  1  1  0  1  1  1     0  0  1  0  1  1  0  0  0  2  1  1\n",
       " 2  2  2  2  1  2  2  2  2  2  2  2  2     2  2  2  2  2  2  2  2  2  1  2  2\n",
       " ⋮              ⋮              ⋮        ⋱        ⋮              ⋮            \n",
       " 0  0  0  0  0  0  0  0  0  0  0  0  0     0  0  0  0  0  0  0  0  0  0  0  0\n",
       " 0  0  0  0  0  0  1  1  0  0  0  0  1     0  0  0  0  0  0  0  0  0  0  0  0\n",
       " 2  2  2  2  2  2  2  2  2  2  2  2  2  …  2  2  2  2  2  2  2  2  2  2  2  2\n",
       " 0  0  0  0  0  1  1  0  1  0  0  0  0     1  0  0  0  0  0  0  0  0  1  0  0\n",
       " 0  0  1  0  0  0  0  0  0  1  2  0  1     0  0  1  0  0  0  0  1  0  0  1  0\n",
       " 2  2  2  2  2  2  2  2  2  2  2  2  2     1  2  2  2  2  2  2  2  2  2  2  2\n",
       " 2  2  0  2  1  1  0  0  2  2  2  1  2     1  1  2  1  2  2  1  2  1  2  1  2\n",
       " 1  0  2  0  2  2  2  2  2  2  2  1  2  …  1  2  1  2  2  1  2  2  2  2  2  2\n",
       " 2  2  2  2  1  1  2  2  1  1  2  2  1     2  2  2  1  2  2  1  2  2  1  2  1\n",
       " 2  2  2  2  1  2  2  2  2  1  2  2  2     2  2  2  1  1  2  1  2  2  2  2  1\n",
       " 0  0  0  0  0  0  0  0  0  0  0  0  0     0  0  0  0  0  0  0  0  0  0  0  0\n",
       " 2  2  2  2  2  2  2  2  2  2  2  2  2     2  2  2  2  2  2  2  2  2  2  2  2"
      ]
     },
     "execution_count": 20,
     "metadata": {},
     "output_type": "execute_result"
    }
   ],
   "source": [
    "h5read(\"samplepop.hdf5\", \"dosage\")"
   ]
  },
  {
   "cell_type": "code",
   "execution_count": null,
   "metadata": {
    "collapsed": true
   },
   "outputs": [],
   "source": []
  }
 ],
 "metadata": {
  "kernelspec": {
   "display_name": "Julia 0.4.2-pre",
   "language": "julia",
   "name": "julia-0.4"
  },
  "language_info": {
   "file_extension": ".jl",
   "mimetype": "application/julia",
   "name": "julia",
   "version": "0.4.7"
  }
 },
 "nbformat": 4,
 "nbformat_minor": 0
}
