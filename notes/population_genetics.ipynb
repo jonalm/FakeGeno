{
 "cells": [
  {
   "cell_type": "markdown",
   "metadata": {},
   "source": [
    "### Hardy-Wienberg equilibrium\n",
    "\n",
    "Consider two alleles $a$ and $A$. Let the allele frequency for allele $a$  be $\\Pr(a) = p$, and $\\Pr(A)=1-p$.\n",
    "Random mating (of an infinite population) gives the the following genotypes (the HW eq.)\n",
    "\n",
    "\n",
    "\\begin{align}\n",
    "\\Pr(aa) &= p^2\\\\\n",
    "\\Pr(aA) &= p(1-p)\\\\\n",
    "\\Pr(Aa) &= p(1-p)\\\\\n",
    "\\Pr(AA) &= (1-p)^2\n",
    "\\end{align}\n",
    "\n",
    "From which we deduce that the heterozygosity (propotion genotypes with unequal alleles) is $H = 2p(1-p)$\n",
    "\n"
   ]
  },
  {
   "cell_type": "markdown",
   "metadata": {},
   "source": [
    "### Sampling with replacement from fixed size population\n",
    "\n",
    "Consider a population of $2N$ alleles. The next generation consist of a resample. The probability of loosing an allele in the sample, i.e. not drawing the allele in $2N$ draws, is\n",
    "\n",
    "\\begin{align}\n",
    "\\left(1-\\frac{1}{2N} \\right)^{2N} \\rightarrow e^{-1} \\simeq  0.37\n",
    "\\end{align} \n",
    "\n",
    "Independent of $N$ when $N$ is large!"
   ]
  },
  {
   "cell_type": "markdown",
   "metadata": {},
   "source": [
    "### Genetic drift\n",
    "\n",
    "Let $y_n$ be the event \"a pair of  alleles from population $2N$, at genereation $n$, are equal\". \n",
    "Let $A$ be the event \"both alleles (the pair) are inherited from same parent allele of previous generation\", and $\\bar{A}$ its negation.\n",
    "\n",
    "We can write the following recursion relation\n",
    "\n",
    "\\begin{align}\n",
    "\\Pr(y_n) &= \\Pr(y_n| A ) \\Pr(A) +  \\Pr(y_n| \\bar{A} ) \\Pr(\\bar{A})\\\\\n",
    "&= 1  \\frac{1}{2N} + \\Pr(y_{n-1}) \\left(1-\\frac{1}{2N}\\right)\n",
    "\\end{align} \n",
    "\n",
    "For $g_n = \\Pr(y_n)$ we have,\n",
    "\n",
    "\\begin{align}\n",
    "g_{n+1} &=   \\frac{1}{2N} +  \\left(1-\\frac{1}{2N}\\right) g_n\n",
    "\\end{align} \n",
    "\n"
   ]
  },
  {
   "cell_type": "markdown",
   "metadata": {},
   "source": [
    "### Include mutation\n",
    "\n",
    "Let $u$ be the mutation rate. \n",
    "Also, let $g'$ be $g$ as defined in the previous section (i.e. disregarding mutation).\n",
    "\n",
    "We have\n",
    "\\begin{align}\n",
    "g_{n+1} &=   [(1-u)^2 + u^2]g'_{n+1} + 2(1-u)u(1-g'_{n+1})\\\\\n",
    "&=   [(1-u)^2 + u^2]\\left[\\left(1-g_n\\right)\\frac{1}{2N} + g_n\\right] + 2(1-u)u\\left\\{1-\\left[\\left(1-g_n\\right)\\frac{1}{2N} + g_n\\right]\\right\\}\n",
    "\\end{align}\n",
    "\n",
    "Note that $(1-u)^2+u^2$ is the probability of that none or both alleles mutate, $2(1-u)u$ is the probability that only one of them mutate. \n",
    "Also note that many books, e.g. *Population Genetics* by John H. Gillespie writes this as (Eq. 2.7)\n",
    "\n",
    "\\begin{align}\n",
    "g_{n+1} &=  (1-u)^2g'_{n+1}\n",
    "\\end{align}"
   ]
  },
  {
   "cell_type": "markdown",
   "metadata": {
    "collapsed": false
   },
   "source": [
    "Assume that $1/2N\\ll 1$ and $1\\ll u$ and that $O(1/2N)=O(u)$. To first order in $u$ or $1/2N$ we ahave,\n",
    "\n",
    "\\begin{align}\n",
    "g_{n+1}\n",
    "&=   [1-2u]\\left[\\left(1-g_n\\right)\\frac{1}{2N} + g_n\\right] + 2u\\left\\{1-\\left[\\left(1-g_n\\right)\\frac{1}{2N} + g_n\\right]\\right\\}\\\\\n",
    "&=   [1-4u]\\left[\\left(1-g_n\\right)\\frac{1}{2N} + g_n\\right] + 2u\\\\\n",
    "&=   \\left(1-g_n\\right)\\frac{1}{2N} + g_n - 4u g_n + 2u\\\\\n",
    "&=   \\frac{1}{2N} + \\left(1-\\frac{1}{2N}\\right)g_n - 4u g_n + 2u\n",
    "\\end{align}\n",
    "\n"
   ]
  },
  {
   "cell_type": "markdown",
   "metadata": {
    "collapsed": true
   },
   "source": [
    "We can rewrite this in terms of the heterozygosity. Let the probability of having unequal alleles at generation $n$, i.e. the probability of having an Heterozygote individual, be $h_n = 1 - g_n$. We have\n",
    "\n",
    "\\begin{align}\n",
    "h_{n+1} = \\left(1-\\frac{1}{2N}\\right)h_n  + 4u (1-h_n)- 2u.\n",
    "\\end{align}\n",
    "\n",
    "Assuming equilibrium we have,\n",
    "\\begin{align}\n",
    "h_{n+1} - h_n= 0 = -\\frac{h_n}{2N}+ 2u[1-2h_n]\n",
    "\\end{align}\n",
    "\n",
    "where the terms on the right hand side is\n",
    "\n",
    "1. decrease of h. due to genetric drifte ($-\\frac{h_n}{2N}$)\n",
    "2. increase of h. due mutiation [$2u (1-2h_n)$]. In Gillespie's book this becomes $2u (1-h_n)$\n",
    "\n",
    "Equating these gives,\n",
    "\\begin{align}\n",
    "\\left(\\frac{1}{2N} + 4u\\right) h_n = 2u \\quad \\Rightarrow \\quad h_n = \\frac{1}{2}\\frac{8un}{1+ 8 un}\n",
    "\\end{align}\n"
   ]
  },
  {
   "cell_type": "code",
   "execution_count": null,
   "metadata": {
    "collapsed": true
   },
   "outputs": [],
   "source": []
  }
 ],
 "metadata": {
  "kernelspec": {
   "display_name": "Julia 0.4.2-pre",
   "language": "julia",
   "name": "julia-0.4"
  },
  "language_info": {
   "file_extension": ".jl",
   "mimetype": "application/julia",
   "name": "julia",
   "version": "0.4.2"
  }
 },
 "nbformat": 4,
 "nbformat_minor": 0
}
