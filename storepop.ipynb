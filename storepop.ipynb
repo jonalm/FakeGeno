{
 "cells": [
  {
   "cell_type": "code",
   "execution_count": 1,
   "metadata": {
    "collapsed": false
   },
   "outputs": [],
   "source": [
    "using HDF5\n",
    "using FakeGeno"
   ]
  },
  {
   "cell_type": "code",
   "execution_count": null,
   "metadata": {
    "collapsed": false
   },
   "outputs": [
    {
     "name": "stdout",
     "output_type": "stream",
     "text": [
      "================================================\n",
      "generate sample population ....\n",
      "\n",
      "# inidviduals  : 2000\n",
      "# chromosomes  : 4000\n",
      "# SNPs         : 1600\n",
      "# generations  : 16000   (4.0 x char. decay)\n",
      "# hotspots     : 100\n",
      "\n",
      "mutationrate set to 9.372364104953658e-5\n",
      "corresponding to average heterozygosity : 0.3\n",
      "================================================\n",
      "evolving population ...  4%  ETA: 0:11:51"
     ]
    }
   ],
   "source": [
    "Nsnp = 1600\n",
    "Nind = 2000\n",
    "Nhs = 100\n",
    "hzygosity = 0.3\n",
    "\n",
    "pop = make_pop(Nsnp,Nind,Nhs,hzygosity)\n",
    "dosage = calc_dosage(pop)\n",
    "COV = cov(pop,2)"
   ]
  },
  {
   "cell_type": "code",
   "execution_count": 11,
   "metadata": {
    "collapsed": false
   },
   "outputs": [],
   "source": [
    "h5open(\"samplepop.hdf5\", \"w\") do x\n",
    "    write(x, \"pop\", convert(Matrix{Int8},pop))\n",
    "    write(x, \"dosage\", convert(Matrix{Int8},dosage))\n",
    "    write(x, \"COV\", COV)\n",
    "    write(x, \"Nind\", Nind)\n",
    "    write(x, \"Nsnp\", Nsnp)\n",
    "    write(x, \"Nhs\", Nhs)\n",
    "    write(x, \"hzygosity\", hzygosity)\n",
    "end"
   ]
  },
  {
   "cell_type": "code",
   "execution_count": 12,
   "metadata": {
    "collapsed": false
   },
   "outputs": [
    {
     "name": "stdout",
     "output_type": "stream",
     "text": [
      "HDF5 \"samplepop.hdf5\" {\n",
      "FILE_CONTENTS {\n",
      " group      /\n",
      " dataset    /COV\n",
      " dataset    /Nhs\n",
      " dataset    /Nind\n",
      " dataset    /Nsnp\n",
      " dataset    /dosage\n",
      " dataset    /hzygosity\n",
      " dataset    /pop\n",
      " }\n",
      "}\n"
     ]
    }
   ],
   "source": [
    ";h5dump -n samplepop.hdf5"
   ]
  },
  {
   "cell_type": "code",
   "execution_count": null,
   "metadata": {
    "collapsed": true
   },
   "outputs": [],
   "source": []
  }
 ],
 "metadata": {
  "kernelspec": {
   "display_name": "Julia 0.4.2-pre",
   "language": "julia",
   "name": "julia-0.4"
  },
  "language_info": {
   "file_extension": ".jl",
   "mimetype": "application/julia",
   "name": "julia",
   "version": "0.4.2"
  }
 },
 "nbformat": 4,
 "nbformat_minor": 0
}
